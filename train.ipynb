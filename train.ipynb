{
 "cells": [
  {
   "cell_type": "code",
   "execution_count": 7,
   "id": "a3114aa4",
   "metadata": {},
   "outputs": [],
   "source": [
    "import os\n",
    "from train import train_head, export_centers\n",
    "\n",
    "build_dir = \"/home/duo/sm-embedder/build\""
   ]
  },
  {
   "cell_type": "code",
   "execution_count": 8,
   "id": "017b16cb",
   "metadata": {},
   "outputs": [
    {
     "name": "stdout",
     "output_type": "stream",
     "text": [
      ":: Head model loaded successfully\n",
      "Epoch 1/10\n",
      "\n",
      "Epoch 00001: LearningRateScheduler reducing learning rate to 0.001.\n",
      "1000/1000 [==============================] - 5s 4ms/step - loss: 1.0163 - embedder_loss: 0.1474 - softmax_loss: 0.8689 - softmax_accuracy: 0.7987 - val_loss: 0.1691 - val_embedder_loss: 0.0830 - val_softmax_loss: 0.0862 - val_softmax_accuracy: 0.9959\n",
      "INFO:tensorflow:Assets written to: /home/duo/sm-embedder/build/checkpoints/head/assets\n",
      "Epoch 2/10\n",
      "\n",
      "Epoch 00002: LearningRateScheduler reducing learning rate to 0.001.\n",
      "1000/1000 [==============================] - 3s 3ms/step - loss: 0.1586 - embedder_loss: 0.0996 - softmax_loss: 0.0591 - softmax_accuracy: 0.9928 - val_loss: 0.0978 - val_embedder_loss: 0.0557 - val_softmax_loss: 0.0420 - val_softmax_accuracy: 1.0000\n",
      "INFO:tensorflow:Assets written to: /home/duo/sm-embedder/build/checkpoints/head/assets\n",
      "Epoch 3/10\n",
      "\n",
      "Epoch 00003: LearningRateScheduler reducing learning rate to 0.001.\n",
      "1000/1000 [==============================] - 3s 3ms/step - loss: 0.1032 - embedder_loss: 0.0695 - softmax_loss: 0.0337 - softmax_accuracy: 0.9955 - val_loss: 0.0696 - val_embedder_loss: 0.0403 - val_softmax_loss: 0.0294 - val_softmax_accuracy: 1.0000\n",
      "INFO:tensorflow:Assets written to: /home/duo/sm-embedder/build/checkpoints/head/assets\n",
      "Epoch 4/10\n",
      "\n",
      "Epoch 00004: LearningRateScheduler reducing learning rate to 0.001.\n",
      "1000/1000 [==============================] - 3s 3ms/step - loss: 0.0822 - embedder_loss: 0.0559 - softmax_loss: 0.0263 - softmax_accuracy: 0.9954 - val_loss: 0.0613 - val_embedder_loss: 0.0325 - val_softmax_loss: 0.0288 - val_softmax_accuracy: 1.0000\n",
      "INFO:tensorflow:Assets written to: /home/duo/sm-embedder/build/checkpoints/head/assets\n",
      "Epoch 5/10\n",
      "\n",
      "Epoch 00005: LearningRateScheduler reducing learning rate to 0.001.\n",
      "1000/1000 [==============================] - 3s 3ms/step - loss: 0.0694 - embedder_loss: 0.0474 - softmax_loss: 0.0220 - softmax_accuracy: 0.9960 - val_loss: 0.0431 - val_embedder_loss: 0.0273 - val_softmax_loss: 0.0158 - val_softmax_accuracy: 1.0000\n",
      "INFO:tensorflow:Assets written to: /home/duo/sm-embedder/build/checkpoints/head/assets\n",
      "Epoch 6/10\n",
      "\n",
      "Epoch 00006: LearningRateScheduler reducing learning rate to 0.001.\n",
      "1000/1000 [==============================] - 4s 4ms/step - loss: 0.0589 - embedder_loss: 0.0406 - softmax_loss: 0.0183 - softmax_accuracy: 0.9962 - val_loss: 0.0418 - val_embedder_loss: 0.0256 - val_softmax_loss: 0.0162 - val_softmax_accuracy: 1.0000\n",
      "INFO:tensorflow:Assets written to: /home/duo/sm-embedder/build/checkpoints/head/assets\n",
      "Epoch 7/10\n",
      "\n",
      "Epoch 00007: LearningRateScheduler reducing learning rate to 0.00025118864315095795.\n",
      "1000/1000 [==============================] - 3s 3ms/step - loss: 0.0465 - embedder_loss: 0.0333 - softmax_loss: 0.0133 - softmax_accuracy: 0.9976 - val_loss: 0.0355 - val_embedder_loss: 0.0207 - val_softmax_loss: 0.0148 - val_softmax_accuracy: 1.0000\n",
      "INFO:tensorflow:Assets written to: /home/duo/sm-embedder/build/checkpoints/head/assets\n",
      "Epoch 8/10\n",
      "\n",
      "Epoch 00008: LearningRateScheduler reducing learning rate to 6.30957344480193e-05.\n",
      "1000/1000 [==============================] - 3s 3ms/step - loss: 0.0405 - embedder_loss: 0.0301 - softmax_loss: 0.0104 - softmax_accuracy: 0.9985 - val_loss: 0.0345 - val_embedder_loss: 0.0195 - val_softmax_loss: 0.0150 - val_softmax_accuracy: 1.0000\n",
      "INFO:tensorflow:Assets written to: /home/duo/sm-embedder/build/checkpoints/head/assets\n",
      "Epoch 9/10\n",
      "\n",
      "Epoch 00009: LearningRateScheduler reducing learning rate to 1.584893192461114e-05.\n",
      "1000/1000 [==============================] - 3s 3ms/step - loss: 0.0396 - embedder_loss: 0.0294 - softmax_loss: 0.0102 - softmax_accuracy: 0.9989 - val_loss: 0.0346 - val_embedder_loss: 0.0199 - val_softmax_loss: 0.0147 - val_softmax_accuracy: 1.0000\n",
      "INFO:tensorflow:Assets written to: /home/duo/sm-embedder/build/checkpoints/head/assets\n",
      "Epoch 10/10\n",
      "\n",
      "Epoch 00010: LearningRateScheduler reducing learning rate to 3.981071705534969e-06.\n",
      "1000/1000 [==============================] - 3s 3ms/step - loss: 0.0390 - embedder_loss: 0.0290 - softmax_loss: 0.0099 - softmax_accuracy: 0.9990 - val_loss: 0.0339 - val_embedder_loss: 0.0196 - val_softmax_loss: 0.0143 - val_softmax_accuracy: 1.0000\n"
     ]
    }
   ],
   "source": [
    "# The hyperparameters will be defined here for cleanliness. No need to expose them. \n",
    "head_model, centers = train_head(os.path.join(build_dir, 'checkpoints/head/'),\n",
    "                                 train_record=os.path.join(build_dir, 'train_featuremaps.tfrecord'),\n",
    "                                 val_record=os.path.join(build_dir, 'val_featuremaps.tfrecord'),\n",
    "                                 num_classes=20,\n",
    "                                 featuremaps_dim=1280,\n",
    "                                 embedder_dim=32,\n",
    "                                 centerloss_alpha=0.8,\n",
    "                                 logs_dir=os.path.join(build_dir, 'logs/'),\n",
    "                                 batch_size=32,\n",
    "                                 epochs=10,\n",
    "                                 steps=1000)"
   ]
  },
  {
   "cell_type": "code",
   "execution_count": null,
   "id": "0f0c4060",
   "metadata": {},
   "outputs": [],
   "source": [
    "# Now we export the centers, we will need them later.\n",
    "export_centers(centers, os.path.join(build_dir, 'centers.tsv'))"
   ]
  }
 ],
 "metadata": {
  "kernelspec": {
   "display_name": "Python 3",
   "language": "python",
   "name": "python3"
  },
  "language_info": {
   "codemirror_mode": {
    "name": "ipython",
    "version": 3
   },
   "file_extension": ".py",
   "mimetype": "text/x-python",
   "name": "python",
   "nbconvert_exporter": "python",
   "pygments_lexer": "ipython3",
   "version": "3.8.8"
  }
 },
 "nbformat": 4,
 "nbformat_minor": 5
}
